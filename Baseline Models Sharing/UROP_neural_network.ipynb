{
  "nbformat": 4,
  "nbformat_minor": 0,
  "metadata": {
    "colab": {
      "provenance": []
    },
    "kernelspec": {
      "name": "python3",
      "display_name": "Python 3"
    },
    "language_info": {
      "name": "python"
    },
    "accelerator": "GPU",
    "gpuClass": "standard"
  },
  "cells": [
    {
      "cell_type": "code",
      "execution_count": 1,
      "metadata": {
        "id": "y4b2b8B8yTKV"
      },
      "outputs": [],
      "source": [
        "import tensorflow as tf\n",
        "from tensorflow import keras\n",
        "from tensorflow.keras import layers\n",
        "from tensorflow.keras.models import Sequential\n",
        "\n",
        "from tensorflow.keras.preprocessing.text import Tokenizer\n",
        "from tensorflow.keras.utils import pad_sequences\n",
        "\n",
        "import numpy as np\n",
        "import pandas as pd\n",
        "import nltk\n",
        "from nltk.corpus import stopwords\n",
        "import re\n",
        "from nltk.stem.porter import PorterStemmer\n",
        "from nltk.stem import WordNetLemmatizer"
      ]
    },
    {
      "cell_type": "code",
      "source": [
        "from google.colab import drive\n",
        "drive.mount('/content/drive')"
      ],
      "metadata": {
        "id": "TVjBKUX5yXFe",
        "colab": {
          "base_uri": "https://localhost:8080/"
        },
        "outputId": "a26d191c-fdc7-4332-ba45-0875cde1ef9f"
      },
      "execution_count": 2,
      "outputs": [
        {
          "output_type": "stream",
          "name": "stdout",
          "text": [
            "Mounted at /content/drive\n"
          ]
        }
      ]
    },
    {
      "cell_type": "code",
      "source": [
        "path = \"/content/drive/MyDrive/All.csv\"\n",
        "df = pd.read_csv(path)"
      ],
      "metadata": {
        "id": "2Ec_tg6IT6Ri"
      },
      "execution_count": 3,
      "outputs": []
    },
    {
      "cell_type": "markdown",
      "source": [
        "### Get a brief look of the dataset"
      ],
      "metadata": {
        "id": "Tlcf61eQUcEc"
      }
    },
    {
      "cell_type": "code",
      "source": [
        "df.head(5)"
      ],
      "metadata": {
        "colab": {
          "base_uri": "https://localhost:8080/",
          "height": 221
        },
        "id": "eSztaHoOUVLK",
        "outputId": "03b8e591-4193-4a58-945a-4ccd1db505de"
      },
      "execution_count": 4,
      "outputs": [
        {
          "output_type": "execute_result",
          "data": {
            "text/plain": [
              "                                        textual data label      time\n",
              "0  The directors herein present their report and ...     F  20001207\n",
              "1  Entering the 21st century  China has been well...     F  20010330\n",
              "2  For the six months ended December 31  2000  th...     F  20010423\n",
              "3  During the period under review  the Group cont...     F  20010913\n",
              "4  Business ReviewInstant Noodle BusinessAccumula...     F  20011115"
            ],
            "text/html": [
              "\n",
              "  <div id=\"df-5d8c4e81-e782-4575-8b9d-7ca7c4351b11\">\n",
              "    <div class=\"colab-df-container\">\n",
              "      <div>\n",
              "<style scoped>\n",
              "    .dataframe tbody tr th:only-of-type {\n",
              "        vertical-align: middle;\n",
              "    }\n",
              "\n",
              "    .dataframe tbody tr th {\n",
              "        vertical-align: top;\n",
              "    }\n",
              "\n",
              "    .dataframe thead th {\n",
              "        text-align: right;\n",
              "    }\n",
              "</style>\n",
              "<table border=\"1\" class=\"dataframe\">\n",
              "  <thead>\n",
              "    <tr style=\"text-align: right;\">\n",
              "      <th></th>\n",
              "      <th>textual data</th>\n",
              "      <th>label</th>\n",
              "      <th>time</th>\n",
              "    </tr>\n",
              "  </thead>\n",
              "  <tbody>\n",
              "    <tr>\n",
              "      <th>0</th>\n",
              "      <td>The directors herein present their report and ...</td>\n",
              "      <td>F</td>\n",
              "      <td>20001207</td>\n",
              "    </tr>\n",
              "    <tr>\n",
              "      <th>1</th>\n",
              "      <td>Entering the 21st century  China has been well...</td>\n",
              "      <td>F</td>\n",
              "      <td>20010330</td>\n",
              "    </tr>\n",
              "    <tr>\n",
              "      <th>2</th>\n",
              "      <td>For the six months ended December 31  2000  th...</td>\n",
              "      <td>F</td>\n",
              "      <td>20010423</td>\n",
              "    </tr>\n",
              "    <tr>\n",
              "      <th>3</th>\n",
              "      <td>During the period under review  the Group cont...</td>\n",
              "      <td>F</td>\n",
              "      <td>20010913</td>\n",
              "    </tr>\n",
              "    <tr>\n",
              "      <th>4</th>\n",
              "      <td>Business ReviewInstant Noodle BusinessAccumula...</td>\n",
              "      <td>F</td>\n",
              "      <td>20011115</td>\n",
              "    </tr>\n",
              "  </tbody>\n",
              "</table>\n",
              "</div>\n",
              "      <button class=\"colab-df-convert\" onclick=\"convertToInteractive('df-5d8c4e81-e782-4575-8b9d-7ca7c4351b11')\"\n",
              "              title=\"Convert this dataframe to an interactive table.\"\n",
              "              style=\"display:none;\">\n",
              "        \n",
              "  <svg xmlns=\"http://www.w3.org/2000/svg\" height=\"24px\"viewBox=\"0 0 24 24\"\n",
              "       width=\"24px\">\n",
              "    <path d=\"M0 0h24v24H0V0z\" fill=\"none\"/>\n",
              "    <path d=\"M18.56 5.44l.94 2.06.94-2.06 2.06-.94-2.06-.94-.94-2.06-.94 2.06-2.06.94zm-11 1L8.5 8.5l.94-2.06 2.06-.94-2.06-.94L8.5 2.5l-.94 2.06-2.06.94zm10 10l.94 2.06.94-2.06 2.06-.94-2.06-.94-.94-2.06-.94 2.06-2.06.94z\"/><path d=\"M17.41 7.96l-1.37-1.37c-.4-.4-.92-.59-1.43-.59-.52 0-1.04.2-1.43.59L10.3 9.45l-7.72 7.72c-.78.78-.78 2.05 0 2.83L4 21.41c.39.39.9.59 1.41.59.51 0 1.02-.2 1.41-.59l7.78-7.78 2.81-2.81c.8-.78.8-2.07 0-2.86zM5.41 20L4 18.59l7.72-7.72 1.47 1.35L5.41 20z\"/>\n",
              "  </svg>\n",
              "      </button>\n",
              "      \n",
              "  <style>\n",
              "    .colab-df-container {\n",
              "      display:flex;\n",
              "      flex-wrap:wrap;\n",
              "      gap: 12px;\n",
              "    }\n",
              "\n",
              "    .colab-df-convert {\n",
              "      background-color: #E8F0FE;\n",
              "      border: none;\n",
              "      border-radius: 50%;\n",
              "      cursor: pointer;\n",
              "      display: none;\n",
              "      fill: #1967D2;\n",
              "      height: 32px;\n",
              "      padding: 0 0 0 0;\n",
              "      width: 32px;\n",
              "    }\n",
              "\n",
              "    .colab-df-convert:hover {\n",
              "      background-color: #E2EBFA;\n",
              "      box-shadow: 0px 1px 2px rgba(60, 64, 67, 0.3), 0px 1px 3px 1px rgba(60, 64, 67, 0.15);\n",
              "      fill: #174EA6;\n",
              "    }\n",
              "\n",
              "    [theme=dark] .colab-df-convert {\n",
              "      background-color: #3B4455;\n",
              "      fill: #D2E3FC;\n",
              "    }\n",
              "\n",
              "    [theme=dark] .colab-df-convert:hover {\n",
              "      background-color: #434B5C;\n",
              "      box-shadow: 0px 1px 3px 1px rgba(0, 0, 0, 0.15);\n",
              "      filter: drop-shadow(0px 1px 2px rgba(0, 0, 0, 0.3));\n",
              "      fill: #FFFFFF;\n",
              "    }\n",
              "  </style>\n",
              "\n",
              "      <script>\n",
              "        const buttonEl =\n",
              "          document.querySelector('#df-5d8c4e81-e782-4575-8b9d-7ca7c4351b11 button.colab-df-convert');\n",
              "        buttonEl.style.display =\n",
              "          google.colab.kernel.accessAllowed ? 'block' : 'none';\n",
              "\n",
              "        async function convertToInteractive(key) {\n",
              "          const element = document.querySelector('#df-5d8c4e81-e782-4575-8b9d-7ca7c4351b11');\n",
              "          const dataTable =\n",
              "            await google.colab.kernel.invokeFunction('convertToInteractive',\n",
              "                                                     [key], {});\n",
              "          if (!dataTable) return;\n",
              "\n",
              "          const docLinkHtml = 'Like what you see? Visit the ' +\n",
              "            '<a target=\"_blank\" href=https://colab.research.google.com/notebooks/data_table.ipynb>data table notebook</a>'\n",
              "            + ' to learn more about interactive tables.';\n",
              "          element.innerHTML = '';\n",
              "          dataTable['output_type'] = 'display_data';\n",
              "          await google.colab.output.renderOutput(dataTable, element);\n",
              "          const docLink = document.createElement('div');\n",
              "          docLink.innerHTML = docLinkHtml;\n",
              "          element.appendChild(docLink);\n",
              "        }\n",
              "      </script>\n",
              "    </div>\n",
              "  </div>\n",
              "  "
            ]
          },
          "metadata": {},
          "execution_count": 4
        }
      ]
    },
    {
      "cell_type": "code",
      "source": [
        "#get dummy of label\n",
        "#replace 'F' with 0, 'NF' with 1\n",
        "df['label'].replace(['F','NF'], [1, 0], inplace=True)"
      ],
      "metadata": {
        "id": "VV8ZWin4preE"
      },
      "execution_count": 5,
      "outputs": []
    },
    {
      "cell_type": "code",
      "source": [
        "from collections import Counter\n",
        "Counter(df['label'])"
      ],
      "metadata": {
        "colab": {
          "base_uri": "https://localhost:8080/"
        },
        "id": "iJNVGGNlJyTN",
        "outputId": "889cdd04-dbb2-4009-f3ef-d3543d841392"
      },
      "execution_count": 51,
      "outputs": [
        {
          "output_type": "execute_result",
          "data": {
            "text/plain": [
              "Counter({1: 198, 0: 34650})"
            ]
          },
          "metadata": {},
          "execution_count": 51
        }
      ]
    },
    {
      "cell_type": "markdown",
      "source": [
        "### Spliting dataset"
      ],
      "metadata": {
        "id": "-003-aXTgVzz"
      }
    },
    {
      "cell_type": "code",
      "source": [
        "#remove stop words\n",
        "from nltk.tokenize import word_tokenize\n",
        "nltk.download('stopwords')\n",
        "stop = stopwords.words('english')\n",
        "df['textual data'] = df['textual data'].fillna(\"\")\n",
        "df['textual data'] = df['textual data'].apply(lambda x: ' '.join([word for word in x.split() if word not in (stop)]))"
      ],
      "metadata": {
        "colab": {
          "base_uri": "https://localhost:8080/"
        },
        "id": "J-99RTSwjbFs",
        "outputId": "aa144e5e-ed96-44c1-d067-93fa660726c4"
      },
      "execution_count": 6,
      "outputs": [
        {
          "output_type": "stream",
          "name": "stderr",
          "text": [
            "[nltk_data] Downloading package stopwords to /root/nltk_data...\n",
            "[nltk_data]   Unzipping corpora/stopwords.zip.\n"
          ]
        }
      ]
    },
    {
      "cell_type": "code",
      "source": [
        "# train test split (whole dataset)\n",
        "training_data = df.sample(frac = 0.8, random_state = 42)\n",
        "testing_data = df.drop(training_data.index)\n",
        "print(\"Number of training data: \", training_data.shape[0])\n",
        "print(\"Number of test data: \", testing_data.shape[0])"
      ],
      "metadata": {
        "colab": {
          "base_uri": "https://localhost:8080/"
        },
        "id": "S9OQXlNUgXnF",
        "outputId": "929b3b40-9935-4b52-c7a5-2d6fe39675ac"
      },
      "execution_count": 7,
      "outputs": [
        {
          "output_type": "stream",
          "name": "stdout",
          "text": [
            "Number of training data:  27878\n",
            "Number of test data:  6970\n"
          ]
        }
      ]
    },
    {
      "cell_type": "code",
      "source": [
        "# get the cleaning train test textual data and label\n",
        "strings = \"[!\\\"#$%&()*+-./:;<=>?@[\\]^_`{|}~\\n]\"\n",
        "training_text = training_data[\"textual data\"]\n",
        "training_text.str.lower().replace(strings, \"\")\n",
        "training_label = np.array(training_data[\"label\"])\n",
        "\n",
        "test_text = testing_data[\"textual data\"]\n",
        "test_text.str.lower().replace(strings, \"\")\n",
        "test_label = np.array(testing_data['label'])"
      ],
      "metadata": {
        "id": "EZ6AS72dn9L7"
      },
      "execution_count": 8,
      "outputs": []
    },
    {
      "cell_type": "markdown",
      "source": [
        "### Oversampling to reduce the imbalance of \"F\" and \"NF\""
      ],
      "metadata": {
        "id": "iIS06GHlidFO"
      }
    },
    {
      "cell_type": "code",
      "source": [
        "training_text = np.expand_dims(training_text, axis = 1)"
      ],
      "metadata": {
        "id": "M9nAcWSWdkZ1"
      },
      "execution_count": 9,
      "outputs": []
    },
    {
      "cell_type": "code",
      "source": [
        "Counter(training_label)"
      ],
      "metadata": {
        "colab": {
          "base_uri": "https://localhost:8080/"
        },
        "id": "CuqUgMwuYDzP",
        "outputId": "49ea0226-9ea5-49cb-c4d5-64905b693bf0"
      },
      "execution_count": 10,
      "outputs": [
        {
          "output_type": "execute_result",
          "data": {
            "text/plain": [
              "Counter({0: 27722, 1: 156})"
            ]
          },
          "metadata": {},
          "execution_count": 10
        }
      ]
    },
    {
      "cell_type": "code",
      "source": [
        "from imblearn.over_sampling import RandomOverSampler\n",
        "ros = RandomOverSampler(random_state=42)\n",
        "training_text, training_label = ros.fit_resample(training_text, training_label)"
      ],
      "metadata": {
        "id": "WFR_fh67Ssea"
      },
      "execution_count": 11,
      "outputs": []
    },
    {
      "cell_type": "code",
      "source": [
        "Counter(training_label)"
      ],
      "metadata": {
        "colab": {
          "base_uri": "https://localhost:8080/"
        },
        "id": "D4io-4XaYKJK",
        "outputId": "d7415804-8986-46cf-cdb4-b977ce5cb51a"
      },
      "execution_count": 12,
      "outputs": [
        {
          "output_type": "execute_result",
          "data": {
            "text/plain": [
              "Counter({0: 27722, 1: 27722})"
            ]
          },
          "metadata": {},
          "execution_count": 12
        }
      ]
    },
    {
      "cell_type": "code",
      "source": [
        "training_text = training_text.flatten()"
      ],
      "metadata": {
        "id": "KPgv3QkKiFiY"
      },
      "execution_count": 13,
      "outputs": []
    },
    {
      "cell_type": "code",
      "source": [
        "vocab_size = 20000\n",
        "max_length = 150\n",
        "trunc_type = 'post'\n",
        "oov_tok = \"<OOV>\"\n",
        "\n",
        "# generate the word index dictionary from the training sentences only\n",
        "# then generate and pad both the training sequences and the test sequences\n",
        "tokenizer = Tokenizer(num_words = vocab_size, oov_token=oov_tok)\n",
        "\n",
        "tokenizer.fit_on_texts(training_text)\n",
        "word_index = tokenizer.word_index\n",
        "\n",
        "training_sequences = tokenizer.texts_to_sequences(training_text)\n",
        "training_padded = pad_sequences(training_sequences, maxlen=max_length, truncating=trunc_type)\n",
        "\n",
        "testing_sequences = tokenizer.texts_to_sequences(test_text)\n",
        "testing_padded = pad_sequences(testing_sequences, maxlen=max_length)"
      ],
      "metadata": {
        "id": "Jp-Bzfj9of2s"
      },
      "execution_count": 14,
      "outputs": []
    },
    {
      "cell_type": "markdown",
      "source": [
        "### 1. Simple model with embedding layer"
      ],
      "metadata": {
        "id": "62EEnNmYuGKi"
      }
    },
    {
      "cell_type": "code",
      "source": [
        "# 32 in the Embedding constructor means each word will be represented as a 32-element vector\n",
        "model = Sequential([layers.Embedding(vocab_size, 32, input_length=max_length),\n",
        "                    # insert layer for model building\n",
        "                    layers.Flatten(),\n",
        "                    layers.Dense(6, activation='relu'),\n",
        "                    layers.Dense(1, activation='sigmoid')])\n",
        "\n",
        "model.compile(loss='binary_crossentropy',\n",
        "              optimizer='adam', \n",
        "              metrics=['AUC'])\n",
        "\n",
        "# print the model summary\n",
        "model.summary()"
      ],
      "metadata": {
        "colab": {
          "base_uri": "https://localhost:8080/"
        },
        "id": "_6n_YVzGuPe5",
        "outputId": "95341dd7-23a6-4fd9-9677-359b81e62e2a"
      },
      "execution_count": 15,
      "outputs": [
        {
          "output_type": "stream",
          "name": "stdout",
          "text": [
            "Model: \"sequential\"\n",
            "_________________________________________________________________\n",
            " Layer (type)                Output Shape              Param #   \n",
            "=================================================================\n",
            " embedding (Embedding)       (None, 120, 32)           320000    \n",
            "                                                                 \n",
            " flatten (Flatten)           (None, 3840)              0         \n",
            "                                                                 \n",
            " dense (Dense)               (None, 6)                 23046     \n",
            "                                                                 \n",
            " dense_1 (Dense)             (None, 1)                 7         \n",
            "                                                                 \n",
            "=================================================================\n",
            "Total params: 343,053\n",
            "Trainable params: 343,053\n",
            "Non-trainable params: 0\n",
            "_________________________________________________________________\n"
          ]
        }
      ]
    },
    {
      "cell_type": "code",
      "source": [
        "embeddingmodel_output = model.fit(training_padded, training_label, epochs = 10, validation_data=(testing_padded, test_label))"
      ],
      "metadata": {
        "colab": {
          "base_uri": "https://localhost:8080/"
        },
        "id": "LlmUlx_Lv9lr",
        "outputId": "64d8c8be-e0f6-4ce4-f92c-9f50790a6787"
      },
      "execution_count": 16,
      "outputs": [
        {
          "output_type": "stream",
          "name": "stdout",
          "text": [
            "Epoch 1/10\n",
            "1733/1733 [==============================] - 11s 5ms/step - loss: 0.0350 - auc: 0.9998 - val_loss: 0.0612 - val_auc: 0.5112\n",
            "Epoch 2/10\n",
            "1733/1733 [==============================] - 8s 5ms/step - loss: 3.5481e-04 - auc: 1.0000 - val_loss: 0.0691 - val_auc: 0.4998\n",
            "Epoch 3/10\n",
            "1733/1733 [==============================] - 8s 5ms/step - loss: 0.0013 - auc: 1.0000 - val_loss: 0.0757 - val_auc: 0.4999\n",
            "Epoch 4/10\n",
            "1733/1733 [==============================] - 8s 5ms/step - loss: 0.0015 - auc: 1.0000 - val_loss: 0.0829 - val_auc: 0.4999\n",
            "Epoch 5/10\n",
            "1733/1733 [==============================] - 8s 5ms/step - loss: 0.0010 - auc: 1.0000 - val_loss: 0.0894 - val_auc: 0.5000\n",
            "Epoch 6/10\n",
            "1733/1733 [==============================] - 8s 5ms/step - loss: 7.1128e-04 - auc: 1.0000 - val_loss: 0.0959 - val_auc: 0.5000\n",
            "Epoch 7/10\n",
            "1733/1733 [==============================] - 8s 5ms/step - loss: 5.1043e-04 - auc: 1.0000 - val_loss: 0.1017 - val_auc: 0.5000\n",
            "Epoch 8/10\n",
            "1733/1733 [==============================] - 8s 5ms/step - loss: 3.7289e-04 - auc: 1.0000 - val_loss: 0.1078 - val_auc: 0.5000\n",
            "Epoch 9/10\n",
            "1733/1733 [==============================] - 8s 5ms/step - loss: 2.8794e-04 - auc: 1.0000 - val_loss: 0.1133 - val_auc: 0.5000\n",
            "Epoch 10/10\n",
            "1733/1733 [==============================] - 8s 5ms/step - loss: 2.2855e-04 - auc: 1.0000 - val_loss: 0.1195 - val_auc: 0.5000\n"
          ]
        }
      ]
    },
    {
      "cell_type": "code",
      "source": [
        "import matplotlib.pyplot as plt\n",
        "metric_df = pd.DataFrame(embeddingmodel_output.history)\n",
        "metric_df[['auc','val_auc']].plot(figsize = (8,5))\n",
        "plt.grid(True)"
      ],
      "metadata": {
        "colab": {
          "base_uri": "https://localhost:8080/",
          "height": 340
        },
        "id": "Z7OxJTWGw3j5",
        "outputId": "cda301e3-e48e-4bdb-d3ee-484b5160e82b"
      },
      "execution_count": 17,
      "outputs": [
        {
          "output_type": "display_data",
          "data": {
            "text/plain": [
              "<Figure size 576x360 with 1 Axes>"
            ],
            "image/png": "[encoded data removed]"
          },
          "metadata": {
            "needs_background": "light"
          }
        }
      ]
    },
    {
      "cell_type": "code",
      "source": [
        "metric_df = pd.DataFrame(embeddingmodel_output.history)\n",
        "metric_df[['loss','val_loss']].plot(figsize = (8,5))\n",
        "plt.grid(True)"
      ],
      "metadata": {
        "colab": {
          "base_uri": "https://localhost:8080/",
          "height": 340
        },
        "id": "FpJGFmwcxeve",
        "outputId": "d101e504-3c31-493f-b49d-7a502b59e097"
      },
      "execution_count": 18,
      "outputs": [
        {
          "output_type": "display_data",
          "data": {
            "text/plain": [
              "<Figure size 576x360 with 1 Axes>"
            ],
            "image/png": "[encoded data removed]"
          },
          "metadata": {
            "needs_background": "light"
          }
        }
      ]
    },
    {
      "cell_type": "markdown",
      "source": [
        "### 2. SimpleRNN model"
      ],
      "metadata": {
        "id": "WwsBOG13xbgn"
      }
    },
    {
      "cell_type": "code",
      "source": [
        "# hyperparameters\n",
        "embedding_dim = 150\n",
        "state_dim = 64\n",
        "dense_dim = 32\n",
        "\n",
        "# model definition\n",
        "model_vanillaRNN = Sequential([layers.Embedding(vocab_size, embedding_dim, input_length=max_length),\n",
        "                            layers.Bidirectional(layers.SimpleRNN(state_dim)),\n",
        "                            layers.Dense(dense_dim, activation='relu'),\n",
        "                            layers.Dense(1, activation='sigmoid')], name=\"vanilla\")\n",
        "\n",
        "# set the training parameters\n",
        "model_vanillaRNN.compile(loss='binary_crossentropy', optimizer='adam', metrics=['AUC'])\n",
        "\n",
        "# print the model summary\n",
        "model_vanillaRNN.summary()"
      ],
      "metadata": {
        "colab": {
          "base_uri": "https://localhost:8080/"
        },
        "id": "-ZvKJs8zyjCq",
        "outputId": "efee9964-c34e-4f25-cfc9-fe67ec135836"
      },
      "execution_count": 35,
      "outputs": [
        {
          "output_type": "stream",
          "name": "stdout",
          "text": [
            "Model: \"vanilla\"\n",
            "_________________________________________________________________\n",
            " Layer (type)                Output Shape              Param #   \n",
            "=================================================================\n",
            " embedding_5 (Embedding)     (None, 120, 150)          1500000   \n",
            "                                                                 \n",
            " bidirectional_5 (Bidirectio  (None, 128)              27520     \n",
            " nal)                                                            \n",
            "                                                                 \n",
            " dense_10 (Dense)            (None, 32)                4128      \n",
            "                                                                 \n",
            " dense_11 (Dense)            (None, 1)                 33        \n",
            "                                                                 \n",
            "=================================================================\n",
            "Total params: 1,531,681\n",
            "Trainable params: 1,531,681\n",
            "Non-trainable params: 0\n",
            "_________________________________________________________________\n"
          ]
        }
      ]
    },
    {
      "cell_type": "code",
      "source": [
        "modelRNN_output = model_vanillaRNN.fit(training_padded, training_label, batch_size=256, epochs=10, validation_data=(testing_padded, test_label))"
      ],
      "metadata": {
        "colab": {
          "base_uri": "https://localhost:8080/"
        },
        "id": "zMh9lU28z3vv",
        "outputId": "50811da3-e7da-4f6c-c2a4-3338847a31bf"
      },
      "execution_count": 36,
      "outputs": [
        {
          "output_type": "stream",
          "name": "stdout",
          "text": [
            "Epoch 1/10\n",
            "217/217 [==============================] - 62s 276ms/step - loss: 0.0413 - auc: 0.9995 - val_loss: 0.0478 - val_auc: 0.5103\n",
            "Epoch 2/10\n",
            "217/217 [==============================] - 58s 267ms/step - loss: 6.3163e-04 - auc: 1.0000 - val_loss: 0.0564 - val_auc: 0.5118\n",
            "Epoch 3/10\n",
            "217/217 [==============================] - 57s 262ms/step - loss: 2.3393e-04 - auc: 1.0000 - val_loss: 0.0615 - val_auc: 0.4999\n",
            "Epoch 4/10\n",
            "217/217 [==============================] - 56s 260ms/step - loss: 4.1847e-04 - auc: 1.0000 - val_loss: 0.0563 - val_auc: 0.5143\n",
            "Epoch 5/10\n",
            "217/217 [==============================] - 56s 258ms/step - loss: 0.0016 - auc: 1.0000 - val_loss: 0.0723 - val_auc: 0.5113\n",
            "Epoch 6/10\n",
            "217/217 [==============================] - 56s 258ms/step - loss: 2.3130e-04 - auc: 1.0000 - val_loss: 0.0733 - val_auc: 0.5108\n",
            "Epoch 7/10\n",
            "217/217 [==============================] - 56s 260ms/step - loss: 1.7509e-04 - auc: 1.0000 - val_loss: 0.0780 - val_auc: 0.5115\n",
            "Epoch 8/10\n",
            "217/217 [==============================] - 58s 267ms/step - loss: 1.6138e-04 - auc: 1.0000 - val_loss: 0.0784 - val_auc: 0.5114\n",
            "Epoch 9/10\n",
            "217/217 [==============================] - 56s 259ms/step - loss: 1.4406e-04 - auc: 1.0000 - val_loss: 0.0793 - val_auc: 0.5114\n",
            "Epoch 10/10\n",
            "217/217 [==============================] - 56s 258ms/step - loss: 1.5470e-04 - auc: 1.0000 - val_loss: 0.0809 - val_auc: 0.5115\n"
          ]
        }
      ]
    },
    {
      "cell_type": "code",
      "source": [
        "metric_df = pd.DataFrame(modelRNN_output.history)\n",
        "metric_df[['auc','val_auc']].plot(figsize = (8,5))\n",
        "plt.grid(True)"
      ],
      "metadata": {
        "id": "Gwvji5tT1Djm",
        "colab": {
          "base_uri": "https://localhost:8080/",
          "height": 340
        },
        "outputId": "7828d844-69b4-4c28-b0a5-34ee15bf267e"
      },
      "execution_count": 37,
      "outputs": [
        {
          "output_type": "display_data",
          "data": {
            "text/plain": [
              "<Figure size 576x360 with 1 Axes>"
            ],
            "image/png": "[encoded data removed]"
          },
          "metadata": {
            "needs_background": "light"
          }
        }
      ]
    },
    {
      "cell_type": "code",
      "source": [
        "metric_df = pd.DataFrame(modelRNN_output.history)\n",
        "metric_df[['loss','val_loss']].plot(figsize = (8,5))\n",
        "plt.grid(True)"
      ],
      "metadata": {
        "id": "Y2bcypyK1IP-",
        "colab": {
          "base_uri": "https://localhost:8080/",
          "height": 340
        },
        "outputId": "e7ca7cd9-ac95-4f3d-d7fc-08840e5dee25"
      },
      "execution_count": 38,
      "outputs": [
        {
          "output_type": "display_data",
          "data": {
            "text/plain": [
              "<Figure size 576x360 with 1 Axes>"
            ],
            "image/png": "[encoded data removed]"
          },
          "metadata": {
            "needs_background": "light"
          }
        }
      ]
    },
    {
      "cell_type": "markdown",
      "source": [
        "### 3. LSTM model"
      ],
      "metadata": {
        "id": "1MLqWhmX1de6"
      }
    },
    {
      "cell_type": "code",
      "source": [
        "# hyperparameters\n",
        "embedding_dim = 150\n",
        "state_dim = 64\n",
        "dense_dim = 32\n",
        "\n",
        "# model definition\n",
        "model_lstm = Sequential([layers.Embedding(vocab_size, embedding_dim, input_length=max_length),\n",
        "                         layers.Bidirectional(layers.LSTM(state_dim)),\n",
        "                         layers.Dropout(rate = 0.2),\n",
        "                         layers.Dense(dense_dim, kernel_regularizer = keras.regularizers.l2(l2 = 0.1), activation='relu'),\n",
        "                         layers.BatchNormalization(),\n",
        "                         layers.Dropout(rate = 0.2),\n",
        "                         layers.Dense(1, activation='sigmoid')], name=\"lstm\")\n",
        "\n",
        "# set the training parameters\n",
        "model_lstm.compile(loss='binary_crossentropy', optimizer='adam', metrics=['AUC'])\n",
        "\n",
        "# print the model summary\n",
        "model_lstm.summary()"
      ],
      "metadata": {
        "colab": {
          "base_uri": "https://localhost:8080/"
        },
        "id": "YlEISzaV1ilb",
        "outputId": "2748f491-eaba-4298-d2fe-d7ed8579ce4b"
      },
      "execution_count": 39,
      "outputs": [
        {
          "output_type": "stream",
          "name": "stdout",
          "text": [
            "Model: \"lstm\"\n",
            "_________________________________________________________________\n",
            " Layer (type)                Output Shape              Param #   \n",
            "=================================================================\n",
            " embedding_6 (Embedding)     (None, 120, 150)          1500000   \n",
            "                                                                 \n",
            " bidirectional_6 (Bidirectio  (None, 128)              110080    \n",
            " nal)                                                            \n",
            "                                                                 \n",
            " dropout_4 (Dropout)         (None, 128)               0         \n",
            "                                                                 \n",
            " dense_12 (Dense)            (None, 32)                4128      \n",
            "                                                                 \n",
            " batch_normalization_2 (Batc  (None, 32)               128       \n",
            " hNormalization)                                                 \n",
            "                                                                 \n",
            " dropout_5 (Dropout)         (None, 32)                0         \n",
            "                                                                 \n",
            " dense_13 (Dense)            (None, 1)                 33        \n",
            "                                                                 \n",
            "=================================================================\n",
            "Total params: 1,614,369\n",
            "Trainable params: 1,614,305\n",
            "Non-trainable params: 64\n",
            "_________________________________________________________________\n"
          ]
        }
      ]
    },
    {
      "cell_type": "code",
      "source": [
        "model_lstm_output = model_lstm.fit(training_padded, training_label, batch_size=256, epochs=10, validation_data=(testing_padded, test_label))"
      ],
      "metadata": {
        "colab": {
          "base_uri": "https://localhost:8080/"
        },
        "id": "FL3ihEj11nzq",
        "outputId": "d455ddaf-ffc2-4151-da47-b1f11f195ca2"
      },
      "execution_count": 40,
      "outputs": [
        {
          "output_type": "stream",
          "name": "stdout",
          "text": [
            "Epoch 1/10\n",
            "217/217 [==============================] - 10s 28ms/step - loss: 1.3813 - auc: 0.9992 - val_loss: 0.4160 - val_auc: 0.5068\n",
            "Epoch 2/10\n",
            "217/217 [==============================] - 5s 25ms/step - loss: 0.0193 - auc: 1.0000 - val_loss: 0.1317 - val_auc: 0.4888\n",
            "Epoch 3/10\n",
            "217/217 [==============================] - 5s 25ms/step - loss: 0.0020 - auc: 1.0000 - val_loss: 0.0447 - val_auc: 0.4931\n",
            "Epoch 4/10\n",
            "217/217 [==============================] - 5s 25ms/step - loss: 0.0020 - auc: 0.9999 - val_loss: 0.0719 - val_auc: 0.4978\n",
            "Epoch 5/10\n",
            "217/217 [==============================] - 5s 24ms/step - loss: 0.0016 - auc: 1.0000 - val_loss: 0.0573 - val_auc: 0.4973\n",
            "Epoch 6/10\n",
            "217/217 [==============================] - 5s 24ms/step - loss: 0.0047 - auc: 0.9999 - val_loss: 0.0738 - val_auc: 0.5078\n",
            "Epoch 7/10\n",
            "217/217 [==============================] - 5s 25ms/step - loss: 0.0028 - auc: 0.9999 - val_loss: 0.0867 - val_auc: 0.4996\n",
            "Epoch 8/10\n",
            "217/217 [==============================] - 5s 25ms/step - loss: 0.0021 - auc: 0.9999 - val_loss: 0.1059 - val_auc: 0.4996\n",
            "Epoch 9/10\n",
            "217/217 [==============================] - 5s 24ms/step - loss: 0.0019 - auc: 1.0000 - val_loss: 0.0567 - val_auc: 0.5075\n",
            "Epoch 10/10\n",
            "217/217 [==============================] - 5s 24ms/step - loss: 0.0014 - auc: 1.0000 - val_loss: 0.0545 - val_auc: 0.5087\n"
          ]
        }
      ]
    },
    {
      "cell_type": "code",
      "source": [
        "metric_df = pd.DataFrame(model_lstm_output.history)\n",
        "metric_df[['auc','val_auc']].plot(figsize = (8,5))\n",
        "plt.grid(True)"
      ],
      "metadata": {
        "id": "FMZv6Tjs1966",
        "colab": {
          "base_uri": "https://localhost:8080/",
          "height": 340
        },
        "outputId": "cef1929d-df75-4e12-93ed-cc667b4949ba"
      },
      "execution_count": 41,
      "outputs": [
        {
          "output_type": "display_data",
          "data": {
            "text/plain": [
              "<Figure size 576x360 with 1 Axes>"
            ],
            "image/png": "[encoded data removed]"
          },
          "metadata": {
            "needs_background": "light"
          }
        }
      ]
    },
    {
      "cell_type": "code",
      "source": [
        "metric_df = pd.DataFrame(model_lstm_output.history)\n",
        "metric_df[['loss','val_loss']].plot(figsize = (8,5))\n",
        "plt.grid(True)"
      ],
      "metadata": {
        "id": "ObfkBDo-2Fjy",
        "colab": {
          "base_uri": "https://localhost:8080/",
          "height": 340
        },
        "outputId": "47ab80c0-2779-4bf8-b8ec-e28b32cb1ad3"
      },
      "execution_count": 42,
      "outputs": [
        {
          "output_type": "display_data",
          "data": {
            "text/plain": [
              "<Figure size 576x360 with 1 Axes>"
            ],
            "image/png": "[encoded data removed]"
          },
          "metadata": {
            "needs_background": "light"
          }
        }
      ]
    },
    {
      "cell_type": "markdown",
      "source": [
        "### 4. GRU Model"
      ],
      "metadata": {
        "id": "JjiBaC_O2LPq"
      }
    },
    {
      "cell_type": "code",
      "source": [
        "embedding_dim = 150\n",
        "state_dim = 64\n",
        "dense_dim = 32\n",
        "\n",
        "# model definition\n",
        "model_gru = Sequential([layers.Embedding(vocab_size, embedding_dim, input_length=max_length),\n",
        "                         layers.Bidirectional(layers.GRU(state_dim)),\n",
        "                         layers.Dense(dense_dim, activation='relu'),\n",
        "                         layers.Dense(1, activation='sigmoid')], name=\"gru\")\n",
        "\n",
        "# set the training parameters\n",
        "model_gru.compile(loss='binary_crossentropy', optimizer='adam', metrics=['AUC'])\n",
        "\n",
        "# print the model summary\n",
        "model_gru.summary()"
      ],
      "metadata": {
        "id": "1N-_K6-n2No3",
        "colab": {
          "base_uri": "https://localhost:8080/"
        },
        "outputId": "df30ae81-9140-4039-bd20-faa8a91b4253"
      },
      "execution_count": 43,
      "outputs": [
        {
          "output_type": "stream",
          "name": "stdout",
          "text": [
            "Model: \"gru\"\n",
            "_________________________________________________________________\n",
            " Layer (type)                Output Shape              Param #   \n",
            "=================================================================\n",
            " embedding_7 (Embedding)     (None, 120, 150)          1500000   \n",
            "                                                                 \n",
            " bidirectional_7 (Bidirectio  (None, 128)              82944     \n",
            " nal)                                                            \n",
            "                                                                 \n",
            " dense_14 (Dense)            (None, 32)                4128      \n",
            "                                                                 \n",
            " dense_15 (Dense)            (None, 1)                 33        \n",
            "                                                                 \n",
            "=================================================================\n",
            "Total params: 1,587,105\n",
            "Trainable params: 1,587,105\n",
            "Non-trainable params: 0\n",
            "_________________________________________________________________\n"
          ]
        }
      ]
    },
    {
      "cell_type": "code",
      "source": [
        "model_gru_output = model_gru.fit(training_padded, training_label, batch_size=256, epochs=10, validation_data=(testing_padded, test_label))"
      ],
      "metadata": {
        "id": "VIkmFkB02bed",
        "colab": {
          "base_uri": "https://localhost:8080/"
        },
        "outputId": "7c656fe5-5e3a-4ebf-ffa7-95917044f1f1"
      },
      "execution_count": 44,
      "outputs": [
        {
          "output_type": "stream",
          "name": "stdout",
          "text": [
            "Epoch 1/10\n",
            "217/217 [==============================] - 8s 25ms/step - loss: 0.0883 - auc: 0.9977 - val_loss: 0.0941 - val_auc: 0.4978\n",
            "Epoch 2/10\n",
            "217/217 [==============================] - 5s 21ms/step - loss: 0.0010 - auc: 0.9999 - val_loss: 0.0908 - val_auc: 0.4994\n",
            "Epoch 3/10\n",
            "217/217 [==============================] - 5s 21ms/step - loss: 0.0013 - auc: 0.9999 - val_loss: 0.0959 - val_auc: 0.4984\n",
            "Epoch 4/10\n",
            "217/217 [==============================] - 5s 21ms/step - loss: 4.4347e-04 - auc: 1.0000 - val_loss: 0.1040 - val_auc: 0.4994\n",
            "Epoch 5/10\n",
            "217/217 [==============================] - 4s 21ms/step - loss: 2.2291e-04 - auc: 1.0000 - val_loss: 0.0991 - val_auc: 0.5111\n",
            "Epoch 6/10\n",
            "217/217 [==============================] - 5s 21ms/step - loss: 2.0208e-04 - auc: 1.0000 - val_loss: 0.1043 - val_auc: 0.4994\n",
            "Epoch 7/10\n",
            "217/217 [==============================] - 5s 22ms/step - loss: 1.5942e-04 - auc: 1.0000 - val_loss: 0.1032 - val_auc: 0.5110\n",
            "Epoch 8/10\n",
            "217/217 [==============================] - 5s 21ms/step - loss: 1.6689e-04 - auc: 1.0000 - val_loss: 0.1020 - val_auc: 0.5108\n",
            "Epoch 9/10\n",
            "217/217 [==============================] - 5s 21ms/step - loss: 1.6434e-04 - auc: 1.0000 - val_loss: 0.1027 - val_auc: 0.5110\n",
            "Epoch 10/10\n",
            "217/217 [==============================] - 5s 21ms/step - loss: 1.5811e-04 - auc: 1.0000 - val_loss: 0.1024 - val_auc: 0.5110\n"
          ]
        }
      ]
    },
    {
      "cell_type": "code",
      "source": [
        "metric_df = pd.DataFrame(model_gru_output.history)\n",
        "metric_df[['auc','val_auc']].plot(figsize = (8,5))\n",
        "plt.grid(True)"
      ],
      "metadata": {
        "id": "ZwZzREac3qc0",
        "colab": {
          "base_uri": "https://localhost:8080/",
          "height": 340
        },
        "outputId": "66e957c6-da36-4943-d6fa-f6fd73ea278f"
      },
      "execution_count": 45,
      "outputs": [
        {
          "output_type": "display_data",
          "data": {
            "text/plain": [
              "<Figure size 576x360 with 1 Axes>"
            ],
            "image/png": "[encoded data removed]"
          },
          "metadata": {
            "needs_background": "light"
          }
        }
      ]
    },
    {
      "cell_type": "code",
      "source": [
        "metric_df = pd.DataFrame(model_gru_output.history)\n",
        "metric_df[['loss','val_loss']].plot(figsize = (8,5))\n",
        "plt.grid(True)"
      ],
      "metadata": {
        "id": "ARSajhBY3qWN",
        "colab": {
          "base_uri": "https://localhost:8080/",
          "height": 340
        },
        "outputId": "4c4a2a0e-f3bf-4768-a8ed-8bc6d21fabda"
      },
      "execution_count": 46,
      "outputs": [
        {
          "output_type": "display_data",
          "data": {
            "text/plain": [
              "<Figure size 576x360 with 1 Axes>"
            ],
            "image/png": "[encoded data removed]"
          },
          "metadata": {
            "needs_background": "light"
          }
        }
      ]
    },
    {
      "cell_type": "markdown",
      "source": [
        "### 5. Multi-layer (LSTM) RNNs"
      ],
      "metadata": {
        "id": "xgQktFrK3xTW"
      }
    },
    {
      "cell_type": "code",
      "source": [
        "embedding_dim = 150\n",
        "state_dim = 64\n",
        "dense_dim = 32\n",
        "\n",
        "\n",
        "# model definition\n",
        "model_multi_layer = Sequential([layers.Embedding(vocab_size, embedding_dim, input_length=max_length),\n",
        "                                layers.Bidirectional(layers.LSTM(state_dim, return_sequences=True)),\n",
        "                                layers.BatchNormalization(),\n",
        "                                layers.Dropout(rate=0.2),\n",
        "                                layers.Bidirectional(layers.LSTM(state_dim)),\n",
        "                                layers.Dropout(rate=0.2),\n",
        "                                layers.Dense(dense_dim, kernel_regularizer = keras.regularizers.l2(l2 = 0.01), activation='relu'),\n",
        "                                layers.Dense(1, activation='sigmoid')], name=\"multi_layer\")\n",
        "\n",
        "# set the training parameters\n",
        "model_multi_layer.compile(loss='binary_crossentropy', optimizer='adam', metrics=['AUC'])\n",
        "\n",
        "# print the model summary\n",
        "model_multi_layer.summary()"
      ],
      "metadata": {
        "id": "r9RfXVhJ3w6C",
        "colab": {
          "base_uri": "https://localhost:8080/"
        },
        "outputId": "463248a1-b8f1-4fe1-969f-a6139c0de648"
      },
      "execution_count": 47,
      "outputs": [
        {
          "output_type": "stream",
          "name": "stdout",
          "text": [
            "Model: \"multi_layer\"\n",
            "_________________________________________________________________\n",
            " Layer (type)                Output Shape              Param #   \n",
            "=================================================================\n",
            " embedding_8 (Embedding)     (None, 120, 150)          1500000   \n",
            "                                                                 \n",
            " bidirectional_8 (Bidirectio  (None, 120, 128)         110080    \n",
            " nal)                                                            \n",
            "                                                                 \n",
            " batch_normalization_3 (Batc  (None, 120, 128)         512       \n",
            " hNormalization)                                                 \n",
            "                                                                 \n",
            " dropout_6 (Dropout)         (None, 120, 128)          0         \n",
            "                                                                 \n",
            " bidirectional_9 (Bidirectio  (None, 128)              98816     \n",
            " nal)                                                            \n",
            "                                                                 \n",
            " dropout_7 (Dropout)         (None, 128)               0         \n",
            "                                                                 \n",
            " dense_16 (Dense)            (None, 32)                4128      \n",
            "                                                                 \n",
            " dense_17 (Dense)            (None, 1)                 33        \n",
            "                                                                 \n",
            "=================================================================\n",
            "Total params: 1,713,569\n",
            "Trainable params: 1,713,313\n",
            "Non-trainable params: 256\n",
            "_________________________________________________________________\n"
          ]
        }
      ]
    },
    {
      "cell_type": "code",
      "source": [
        "model_multilayer_output = model_multi_layer.fit(training_padded, training_label, batch_size=256, epochs=10, validation_data=(testing_padded, test_label))"
      ],
      "metadata": {
        "id": "6sBEJwAE4BqN",
        "colab": {
          "base_uri": "https://localhost:8080/"
        },
        "outputId": "8c2fe1fe-dd8d-438d-fb55-c8e983efa8e1"
      },
      "execution_count": 48,
      "outputs": [
        {
          "output_type": "stream",
          "name": "stdout",
          "text": [
            "Epoch 1/10\n",
            "217/217 [==============================] - 18s 50ms/step - loss: 0.1865 - auc: 0.9994 - val_loss: 0.0652 - val_auc: 0.5619\n",
            "Epoch 2/10\n",
            "217/217 [==============================] - 9s 43ms/step - loss: 0.0130 - auc: 0.9999 - val_loss: 0.6405 - val_auc: 0.5990\n",
            "Epoch 3/10\n",
            "217/217 [==============================] - 9s 43ms/step - loss: 0.0135 - auc: 1.0000 - val_loss: 0.0483 - val_auc: 0.5205\n",
            "Epoch 4/10\n",
            "217/217 [==============================] - 9s 43ms/step - loss: 0.0049 - auc: 1.0000 - val_loss: 0.0470 - val_auc: 0.5186\n",
            "Epoch 5/10\n",
            "217/217 [==============================] - 9s 44ms/step - loss: 0.0038 - auc: 1.0000 - val_loss: 0.0479 - val_auc: 0.5091\n",
            "Epoch 6/10\n",
            "217/217 [==============================] - 11s 49ms/step - loss: 0.0033 - auc: 1.0000 - val_loss: 0.0480 - val_auc: 0.5092\n",
            "Epoch 7/10\n",
            "217/217 [==============================] - 9s 44ms/step - loss: 0.0029 - auc: 1.0000 - val_loss: 0.0493 - val_auc: 0.5103\n",
            "Epoch 8/10\n",
            "217/217 [==============================] - 9s 44ms/step - loss: 0.0024 - auc: 1.0000 - val_loss: 0.0508 - val_auc: 0.4970\n",
            "Epoch 9/10\n",
            "217/217 [==============================] - 10s 44ms/step - loss: 0.0025 - auc: 1.0000 - val_loss: 0.0528 - val_auc: 0.4991\n",
            "Epoch 10/10\n",
            "217/217 [==============================] - 9s 43ms/step - loss: 0.0029 - auc: 1.0000 - val_loss: 0.0547 - val_auc: 0.5183\n"
          ]
        }
      ]
    },
    {
      "cell_type": "code",
      "source": [
        "metric_df = pd.DataFrame(model_multilayer_output.history)\n",
        "metric_df[['auc','val_auc']].plot(figsize = (8,5))\n",
        "plt.grid(True)"
      ],
      "metadata": {
        "id": "EaNbeNWp4cpq",
        "colab": {
          "base_uri": "https://localhost:8080/",
          "height": 340
        },
        "outputId": "a912e40d-f429-42c3-bb90-03bd5d1bfd3c"
      },
      "execution_count": 49,
      "outputs": [
        {
          "output_type": "display_data",
          "data": {
            "text/plain": [
              "<Figure size 576x360 with 1 Axes>"
            ],
            "image/png": "[encoded data removed]"
          },
          "metadata": {
            "needs_background": "light"
          }
        }
      ]
    },
    {
      "cell_type": "code",
      "source": [
        "metric_df = pd.DataFrame(model_multilayer_output.history)\n",
        "metric_df[['loss','val_loss']].plot(figsize = (8,5))\n",
        "plt.grid(True)"
      ],
      "metadata": {
        "id": "9uR6IUeG4kMm",
        "colab": {
          "base_uri": "https://localhost:8080/",
          "height": 340
        },
        "outputId": "f0dd3b8e-f1c5-4eb7-d134-2ff5803330e1"
      },
      "execution_count": 50,
      "outputs": [
        {
          "output_type": "display_data",
          "data": {
            "text/plain": [
              "<Figure size 576x360 with 1 Axes>"
            ],
            "image/png": "[encoded data removed]"
          },
          "metadata": {
            "needs_background": "light"
          }
        }
      ]
    }
  ]
}