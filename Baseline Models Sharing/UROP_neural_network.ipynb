{
  "nbformat": 4,
  "nbformat_minor": 0,
  "metadata": {
    "colab": {
      "provenance": []
    },
    "kernelspec": {
      "name": "python3",
      "display_name": "Python 3"
    },
    "language_info": {
      "name": "python"
    },
    "accelerator": "GPU",
    "gpuClass": "standard"
  },
  "cells": [
    {
      "cell_type": "code",
      "execution_count": 4,
      "metadata": {
        "id": "y4b2b8B8yTKV"
      },
      "outputs": [],
      "source": [
        "import tensorflow as tf\n",
        "from tensorflow.keras import layers, Sequential\n",
        "from tensorflow.keras.preprocessing.text import Tokenizer\n",
        "from tensorflow.keras.utils import pad_sequences\n",
        "import numpy as np\n",
        "import pandas as pd\n",
        "import nltk\n",
        "from nltk.corpus import stopwords\n",
        "import re\n",
        "from nltk.stem.porter import PorterStemmer\n",
        "from nltk.stem import WordNetLemmatizer"
      ]
    },
    {
      "cell_type": "code",
      "source": [
        "from google.colab import drive\n",
        "drive.mount('/content/drive')"
      ],
      "metadata": {
        "id": "TVjBKUX5yXFe",
        "colab": {
          "base_uri": "https://localhost:8080/"
        },
        "outputId": "aac65d92-c0b7-413f-90a4-d1fc1035e793"
      },
      "execution_count": 5,
      "outputs": [
        {
          "output_type": "stream",
          "name": "stdout",
          "text": [
            "Mounted at /content/drive\n"
          ]
        }
      ]
    },
    {
      "cell_type": "code",
      "source": [
        "path = \"/content/drive/MyDrive/All.csv\"\n",
        "df = pd.read_csv(path)"
      ],
      "metadata": {
        "id": "2Ec_tg6IT6Ri"
      },
      "execution_count": 6,
      "outputs": []
    },
    {
      "cell_type": "markdown",
      "source": [
        "### Get a brief look of the dataset"
      ],
      "metadata": {
        "id": "Tlcf61eQUcEc"
      }
    },
    {
      "cell_type": "code",
      "source": [
        "df.head(5)"
      ],
      "metadata": {
        "colab": {
          "base_uri": "https://localhost:8080/",
          "height": 221
        },
        "id": "eSztaHoOUVLK",
        "outputId": "10e0afc5-b830-4f07-cdfc-9a02ad605a99"
      },
      "execution_count": 7,
      "outputs": [
        {
          "output_type": "execute_result",
          "data": {
            "text/plain": [
              "                                        textual data label      time\n",
              "0  The directors herein present their report and ...     F  20001207\n",
              "1  Entering the 21st century  China has been well...     F  20010330\n",
              "2  For the six months ended December 31  2000  th...     F  20010423\n",
              "3  During the period under review  the Group cont...     F  20010913\n",
              "4  Business ReviewInstant Noodle BusinessAccumula...     F  20011115"
            ],
            "text/html": [
              "\n",
              "  <div id=\"df-4b18967f-f983-40d8-b60e-3a68a143f25b\">\n",
              "    <div class=\"colab-df-container\">\n",
              "      <div>\n",
              "<style scoped>\n",
              "    .dataframe tbody tr th:only-of-type {\n",
              "        vertical-align: middle;\n",
              "    }\n",
              "\n",
              "    .dataframe tbody tr th {\n",
              "        vertical-align: top;\n",
              "    }\n",
              "\n",
              "    .dataframe thead th {\n",
              "        text-align: right;\n",
              "    }\n",
              "</style>\n",
              "<table border=\"1\" class=\"dataframe\">\n",
              "  <thead>\n",
              "    <tr style=\"text-align: right;\">\n",
              "      <th></th>\n",
              "      <th>textual data</th>\n",
              "      <th>label</th>\n",
              "      <th>time</th>\n",
              "    </tr>\n",
              "  </thead>\n",
              "  <tbody>\n",
              "    <tr>\n",
              "      <th>0</th>\n",
              "      <td>The directors herein present their report and ...</td>\n",
              "      <td>F</td>\n",
              "      <td>20001207</td>\n",
              "    </tr>\n",
              "    <tr>\n",
              "      <th>1</th>\n",
              "      <td>Entering the 21st century  China has been well...</td>\n",
              "      <td>F</td>\n",
              "      <td>20010330</td>\n",
              "    </tr>\n",
              "    <tr>\n",
              "      <th>2</th>\n",
              "      <td>For the six months ended December 31  2000  th...</td>\n",
              "      <td>F</td>\n",
              "      <td>20010423</td>\n",
              "    </tr>\n",
              "    <tr>\n",
              "      <th>3</th>\n",
              "      <td>During the period under review  the Group cont...</td>\n",
              "      <td>F</td>\n",
              "      <td>20010913</td>\n",
              "    </tr>\n",
              "    <tr>\n",
              "      <th>4</th>\n",
              "      <td>Business ReviewInstant Noodle BusinessAccumula...</td>\n",
              "      <td>F</td>\n",
              "      <td>20011115</td>\n",
              "    </tr>\n",
              "  </tbody>\n",
              "</table>\n",
              "</div>\n",
              "      <button class=\"colab-df-convert\" onclick=\"convertToInteractive('df-4b18967f-f983-40d8-b60e-3a68a143f25b')\"\n",
              "              title=\"Convert this dataframe to an interactive table.\"\n",
              "              style=\"display:none;\">\n",
              "        \n",
              "  <svg xmlns=\"http://www.w3.org/2000/svg\" height=\"24px\"viewBox=\"0 0 24 24\"\n",
              "       width=\"24px\">\n",
              "    <path d=\"M0 0h24v24H0V0z\" fill=\"none\"/>\n",
              "    <path d=\"M18.56 5.44l.94 2.06.94-2.06 2.06-.94-2.06-.94-.94-2.06-.94 2.06-2.06.94zm-11 1L8.5 8.5l.94-2.06 2.06-.94-2.06-.94L8.5 2.5l-.94 2.06-2.06.94zm10 10l.94 2.06.94-2.06 2.06-.94-2.06-.94-.94-2.06-.94 2.06-2.06.94z\"/><path d=\"M17.41 7.96l-1.37-1.37c-.4-.4-.92-.59-1.43-.59-.52 0-1.04.2-1.43.59L10.3 9.45l-7.72 7.72c-.78.78-.78 2.05 0 2.83L4 21.41c.39.39.9.59 1.41.59.51 0 1.02-.2 1.41-.59l7.78-7.78 2.81-2.81c.8-.78.8-2.07 0-2.86zM5.41 20L4 18.59l7.72-7.72 1.47 1.35L5.41 20z\"/>\n",
              "  </svg>\n",
              "      </button>\n",
              "      \n",
              "  <style>\n",
              "    .colab-df-container {\n",
              "      display:flex;\n",
              "      flex-wrap:wrap;\n",
              "      gap: 12px;\n",
              "    }\n",
              "\n",
              "    .colab-df-convert {\n",
              "      background-color: #E8F0FE;\n",
              "      border: none;\n",
              "      border-radius: 50%;\n",
              "      cursor: pointer;\n",
              "      display: none;\n",
              "      fill: #1967D2;\n",
              "      height: 32px;\n",
              "      padding: 0 0 0 0;\n",
              "      width: 32px;\n",
              "    }\n",
              "\n",
              "    .colab-df-convert:hover {\n",
              "      background-color: #E2EBFA;\n",
              "      box-shadow: 0px 1px 2px rgba(60, 64, 67, 0.3), 0px 1px 3px 1px rgba(60, 64, 67, 0.15);\n",
              "      fill: #174EA6;\n",
              "    }\n",
              "\n",
              "    [theme=dark] .colab-df-convert {\n",
              "      background-color: #3B4455;\n",
              "      fill: #D2E3FC;\n",
              "    }\n",
              "\n",
              "    [theme=dark] .colab-df-convert:hover {\n",
              "      background-color: #434B5C;\n",
              "      box-shadow: 0px 1px 3px 1px rgba(0, 0, 0, 0.15);\n",
              "      filter: drop-shadow(0px 1px 2px rgba(0, 0, 0, 0.3));\n",
              "      fill: #FFFFFF;\n",
              "    }\n",
              "  </style>\n",
              "\n",
              "      <script>\n",
              "        const buttonEl =\n",
              "          document.querySelector('#df-4b18967f-f983-40d8-b60e-3a68a143f25b button.colab-df-convert');\n",
              "        buttonEl.style.display =\n",
              "          google.colab.kernel.accessAllowed ? 'block' : 'none';\n",
              "\n",
              "        async function convertToInteractive(key) {\n",
              "          const element = document.querySelector('#df-4b18967f-f983-40d8-b60e-3a68a143f25b');\n",
              "          const dataTable =\n",
              "            await google.colab.kernel.invokeFunction('convertToInteractive',\n",
              "                                                     [key], {});\n",
              "          if (!dataTable) return;\n",
              "\n",
              "          const docLinkHtml = 'Like what you see? Visit the ' +\n",
              "            '<a target=\"_blank\" href=https://colab.research.google.com/notebooks/data_table.ipynb>data table notebook</a>'\n",
              "            + ' to learn more about interactive tables.';\n",
              "          element.innerHTML = '';\n",
              "          dataTable['output_type'] = 'display_data';\n",
              "          await google.colab.output.renderOutput(dataTable, element);\n",
              "          const docLink = document.createElement('div');\n",
              "          docLink.innerHTML = docLinkHtml;\n",
              "          element.appendChild(docLink);\n",
              "        }\n",
              "      </script>\n",
              "    </div>\n",
              "  </div>\n",
              "  "
            ]
          },
          "metadata": {},
          "execution_count": 7
        }
      ]
    },
    {
      "cell_type": "code",
      "source": [
        "#get dummy of label\n",
        "#replace 'F' with 0, 'NF' with 1\n",
        "df['label'].replace(['F','NF'], [0, 1], inplace=True)"
      ],
      "metadata": {
        "id": "VV8ZWin4preE"
      },
      "execution_count": 8,
      "outputs": []
    },
    {
      "cell_type": "markdown",
      "source": [
        "### Spliting dataset"
      ],
      "metadata": {
        "id": "-003-aXTgVzz"
      }
    },
    {
      "cell_type": "code",
      "source": [
        "#remove stop words\n",
        "from nltk.tokenize import word_tokenize\n",
        "nltk.download('stopwords')\n",
        "stop = stopwords.words('english')\n",
        "df['textual data'] = df['textual data'].fillna(\"\")\n",
        "df['textual data'] = df['textual data'].apply(lambda x: ' '.join([word for word in x.split() if word not in (stop)]))"
      ],
      "metadata": {
        "colab": {
          "base_uri": "https://localhost:8080/"
        },
        "id": "J-99RTSwjbFs",
        "outputId": "2c1631ec-a419-4e8c-dc3f-8102913c546a"
      },
      "execution_count": 9,
      "outputs": [
        {
          "output_type": "stream",
          "name": "stderr",
          "text": [
            "[nltk_data] Downloading package stopwords to /root/nltk_data...\n",
            "[nltk_data]   Unzipping corpora/stopwords.zip.\n"
          ]
        }
      ]
    },
    {
      "cell_type": "code",
      "source": [
        "# train test split (whole dataset)\n",
        "training_data = df.sample(frac = 0.8, random_state = 42)\n",
        "testing_data = df.drop(training_data.index)\n",
        "print(\"Number of training data: \", training_data.shape[0])\n",
        "print(\"Number of test data: \", testing_data.shape[0])"
      ],
      "metadata": {
        "colab": {
          "base_uri": "https://localhost:8080/"
        },
        "id": "S9OQXlNUgXnF",
        "outputId": "ce120e43-4435-4c7f-e539-4fb1982d93f1"
      },
      "execution_count": 10,
      "outputs": [
        {
          "output_type": "stream",
          "name": "stdout",
          "text": [
            "Number of training data:  27878\n",
            "Number of test data:  6970\n"
          ]
        }
      ]
    },
    {
      "cell_type": "code",
      "source": [
        "# get the cleaning train test textual data and label\n",
        "training_text = training_data['textual data']\n",
        "training_text.str.lower()\n",
        "training_label = np.array(training_data['label'])\n",
        "\n",
        "test_text = testing_data['textual data']\n",
        "test_text.str.lower()\n",
        "test_label = np.array(testing_data['label'])"
      ],
      "metadata": {
        "id": "EZ6AS72dn9L7"
      },
      "execution_count": 11,
      "outputs": []
    },
    {
      "cell_type": "code",
      "source": [
        "vocab_size = 10000\n",
        "max_length = 120\n",
        "trunc_type = 'post'\n",
        "oov_tok = \"<OOV>\"\n",
        "\n",
        "# generate the word index dictionary from the training sentences only\n",
        "# then generate and pad both the training sequences and the test sequences\n",
        "tokenizer = Tokenizer(num_words = vocab_size, oov_token=oov_tok)\n",
        "\n",
        "tokenizer.fit_on_texts(training_text)\n",
        "word_index = tokenizer.word_index\n",
        "\n",
        "training_sequences = tokenizer.texts_to_sequences(training_text)\n",
        "training_padded = pad_sequences(training_sequences, maxlen=max_length, truncating=trunc_type)\n",
        "\n",
        "testing_sequences = tokenizer.texts_to_sequences(test_text)\n",
        "testing_padded = pad_sequences(testing_sequences, maxlen=max_length)"
      ],
      "metadata": {
        "id": "Jp-Bzfj9of2s"
      },
      "execution_count": 12,
      "outputs": []
    },
    {
      "cell_type": "markdown",
      "source": [
        "### 1. Simple model with embedding layer"
      ],
      "metadata": {
        "id": "62EEnNmYuGKi"
      }
    },
    {
      "cell_type": "code",
      "source": [
        "# 32 in the Embedding constructor means each word will be represented as a 32-element vector\n",
        "model = Sequential([layers.Embedding(vocab_size, 32, input_length=max_length),\n",
        "                    # insert layer for model building\n",
        "                    layers.Flatten(),\n",
        "                    layers.Dense(6, activation='relu'),\n",
        "                    layers.Dense(1, activation='sigmoid')])\n",
        "\n",
        "# setup the training parameters\n",
        "# insert parameter values for .compile(), e.g. loss function & optimizer\n",
        "# set the metrics parameter to be 'accuracy'\n",
        "model.compile(loss='binary_crossentropy',\n",
        "              optimizer='adam', \n",
        "              metrics=['accuracy'])\n",
        "\n",
        "# print the model summary\n",
        "model.summary()"
      ],
      "metadata": {
        "colab": {
          "base_uri": "https://localhost:8080/"
        },
        "id": "_6n_YVzGuPe5",
        "outputId": "a74efdb2-a52d-463d-b13d-25bdb4f7ad26"
      },
      "execution_count": 13,
      "outputs": [
        {
          "output_type": "stream",
          "name": "stdout",
          "text": [
            "Model: \"sequential\"\n",
            "_________________________________________________________________\n",
            " Layer (type)                Output Shape              Param #   \n",
            "=================================================================\n",
            " embedding (Embedding)       (None, 120, 32)           320000    \n",
            "                                                                 \n",
            " flatten (Flatten)           (None, 3840)              0         \n",
            "                                                                 \n",
            " dense (Dense)               (None, 6)                 23046     \n",
            "                                                                 \n",
            " dense_1 (Dense)             (None, 1)                 7         \n",
            "                                                                 \n",
            "=================================================================\n",
            "Total params: 343,053\n",
            "Trainable params: 343,053\n",
            "Non-trainable params: 0\n",
            "_________________________________________________________________\n"
          ]
        }
      ]
    },
    {
      "cell_type": "code",
      "source": [
        "embeddingmodel_output = model.fit(training_padded, training_label, epochs = 10, validation_data=(testing_padded, test_label))"
      ],
      "metadata": {
        "colab": {
          "base_uri": "https://localhost:8080/"
        },
        "id": "LlmUlx_Lv9lr",
        "outputId": "6793e8a7-1c74-4b8f-ba29-e41025877400"
      },
      "execution_count": 14,
      "outputs": [
        {
          "output_type": "stream",
          "name": "stdout",
          "text": [
            "Epoch 1/10\n",
            "872/872 [==============================] - 6s 4ms/step - loss: 0.0538 - accuracy: 0.9934 - val_loss: 0.0345 - val_accuracy: 0.9940\n",
            "Epoch 2/10\n",
            "872/872 [==============================] - 3s 4ms/step - loss: 0.0142 - accuracy: 0.9957 - val_loss: 0.0426 - val_accuracy: 0.9940\n",
            "Epoch 3/10\n",
            "872/872 [==============================] - 3s 4ms/step - loss: 0.0020 - accuracy: 0.9995 - val_loss: 0.0643 - val_accuracy: 0.9940\n",
            "Epoch 4/10\n",
            "872/872 [==============================] - 4s 5ms/step - loss: 3.6397e-04 - accuracy: 0.9999 - val_loss: 0.0732 - val_accuracy: 0.9940\n",
            "Epoch 5/10\n",
            "872/872 [==============================] - 3s 4ms/step - loss: 9.8773e-05 - accuracy: 1.0000 - val_loss: 0.0764 - val_accuracy: 0.9940\n",
            "Epoch 6/10\n",
            "872/872 [==============================] - 3s 4ms/step - loss: 7.2155e-05 - accuracy: 1.0000 - val_loss: 0.0800 - val_accuracy: 0.9940\n",
            "Epoch 7/10\n",
            "872/872 [==============================] - 3s 4ms/step - loss: 6.1915e-05 - accuracy: 1.0000 - val_loss: 0.0836 - val_accuracy: 0.9940\n",
            "Epoch 8/10\n",
            "872/872 [==============================] - 3s 4ms/step - loss: 5.7202e-05 - accuracy: 0.9999 - val_loss: 0.0864 - val_accuracy: 0.9940\n",
            "Epoch 9/10\n",
            "872/872 [==============================] - 3s 4ms/step - loss: 5.4313e-05 - accuracy: 1.0000 - val_loss: 0.0896 - val_accuracy: 0.9940\n",
            "Epoch 10/10\n",
            "872/872 [==============================] - 3s 4ms/step - loss: 5.2566e-05 - accuracy: 1.0000 - val_loss: 0.0928 - val_accuracy: 0.9940\n"
          ]
        }
      ]
    },
    {
      "cell_type": "code",
      "source": [
        "import matplotlib.pyplot as plt\n",
        "metric_df = pd.DataFrame(embeddingmodel_output.history)\n",
        "metric_df[['accuracy','val_accuracy']].plot(figsize = (8,5))\n",
        "plt.grid(True)"
      ],
      "metadata": {
        "colab": {
          "base_uri": "https://localhost:8080/",
          "height": 340
        },
        "id": "Z7OxJTWGw3j5",
        "outputId": "0a8b88c1-cece-4374-c9f0-45d3262028c5"
      },
      "execution_count": 17,
      "outputs": [
        {
          "output_type": "display_data",
          "data": {
            "text/plain": [
              "<Figure size 576x360 with 1 Axes>"
            ],
            "image/png": "[encoded data removed]"
          },
          "metadata": {
            "needs_background": "light"
          }
        }
      ]
    },
    {
      "cell_type": "code",
      "source": [
        "metric_df = pd.DataFrame(embeddingmodel_output.history)\n",
        "metric_df[['loss','val_loss']].plot(figsize = (8,5))\n",
        "plt.grid(True)"
      ],
      "metadata": {
        "colab": {
          "base_uri": "https://localhost:8080/",
          "height": 340
        },
        "id": "FpJGFmwcxeve",
        "outputId": "fd70348a-6106-41be-8aeb-2e7638b68472"
      },
      "execution_count": 19,
      "outputs": [
        {
          "output_type": "display_data",
          "data": {
            "text/plain": [
              "<Figure size 576x360 with 1 Axes>"
            ],
            "image/png": "[encoded data removed]"
          },
          "metadata": {
            "needs_background": "light"
          }
        }
      ]
    },
    {
      "cell_type": "markdown",
      "source": [
        "### 2. SimpleRNN model"
      ],
      "metadata": {
        "id": "WwsBOG13xbgn"
      }
    },
    {
      "cell_type": "code",
      "source": [
        "# hyperparameters\n",
        "embedding_dim = 100\n",
        "state_dim = 64\n",
        "dense_dim = 32\n",
        "\n",
        "# model definition\n",
        "model_vanillaRNN = Sequential([layers.Embedding(vocab_size, embedding_dim, input_length=max_length),\n",
        "                            layers.Bidirectional(layers.SimpleRNN(state_dim)),\n",
        "                            # only the output at the last step (the final hidden state) is fed into a fully-connected layer\n",
        "                            layers.Dense(dense_dim, activation='relu'),\n",
        "                            layers.Dense(1, activation='sigmoid')], name=\"vanilla\")\n",
        "\n",
        "# set the training parameters\n",
        "model_vanillaRNN.compile(loss='binary_crossentropy', optimizer='adam', metrics=['accuracy'])\n",
        "\n",
        "# print the model summary\n",
        "model_vanillaRNN.summary()"
      ],
      "metadata": {
        "colab": {
          "base_uri": "https://localhost:8080/"
        },
        "id": "-ZvKJs8zyjCq",
        "outputId": "edb9599f-c7b2-4b97-d624-aadd12066591"
      },
      "execution_count": 26,
      "outputs": [
        {
          "output_type": "stream",
          "name": "stdout",
          "text": [
            "Model: \"vanilla\"\n",
            "_________________________________________________________________\n",
            " Layer (type)                Output Shape              Param #   \n",
            "=================================================================\n",
            " embedding_2 (Embedding)     (None, 120, 100)          1000000   \n",
            "                                                                 \n",
            " bidirectional_1 (Bidirectio  (None, 128)              21120     \n",
            " nal)                                                            \n",
            "                                                                 \n",
            " dense_4 (Dense)             (None, 32)                4128      \n",
            "                                                                 \n",
            " dense_5 (Dense)             (None, 1)                 33        \n",
            "                                                                 \n",
            "=================================================================\n",
            "Total params: 1,025,281\n",
            "Trainable params: 1,025,281\n",
            "Non-trainable params: 0\n",
            "_________________________________________________________________\n"
          ]
        }
      ]
    },
    {
      "cell_type": "code",
      "source": [
        "modelRNN_output = model_vanillaRNN.fit(training_padded, training_label, batch_size=256, epochs=10, validation_data=(testing_padded, test_label))"
      ],
      "metadata": {
        "colab": {
          "base_uri": "https://localhost:8080/"
        },
        "id": "zMh9lU28z3vv",
        "outputId": "762d360d-3bd2-498c-ac3e-c80e9c2c1c3b"
      },
      "execution_count": 28,
      "outputs": [
        {
          "output_type": "stream",
          "name": "stdout",
          "text": [
            "Epoch 1/10\n",
            "109/109 [==============================] - 25s 216ms/step - loss: 0.0620 - accuracy: 0.9895 - val_loss: 0.0368 - val_accuracy: 0.9940\n",
            "Epoch 2/10\n",
            "109/109 [==============================] - 26s 235ms/step - loss: 0.0345 - accuracy: 0.9944 - val_loss: 0.0370 - val_accuracy: 0.9940\n",
            "Epoch 3/10\n",
            "109/109 [==============================] - 24s 216ms/step - loss: 0.0332 - accuracy: 0.9944 - val_loss: 0.0373 - val_accuracy: 0.9940\n",
            "Epoch 4/10\n",
            "109/109 [==============================] - 22s 205ms/step - loss: 0.0241 - accuracy: 0.9944 - val_loss: 0.0427 - val_accuracy: 0.9938\n",
            "Epoch 5/10\n",
            "109/109 [==============================] - 21s 197ms/step - loss: 0.0063 - accuracy: 0.9985 - val_loss: 0.0584 - val_accuracy: 0.9940\n",
            "Epoch 6/10\n",
            "109/109 [==============================] - 22s 200ms/step - loss: 0.0014 - accuracy: 0.9997 - val_loss: 0.0632 - val_accuracy: 0.9940\n",
            "Epoch 7/10\n",
            "109/109 [==============================] - 23s 212ms/step - loss: 4.0390e-04 - accuracy: 1.0000 - val_loss: 0.0623 - val_accuracy: 0.9938\n",
            "Epoch 8/10\n",
            "109/109 [==============================] - 35s 323ms/step - loss: 3.5289e-04 - accuracy: 0.9999 - val_loss: 0.0681 - val_accuracy: 0.9940\n",
            "Epoch 9/10\n",
            "109/109 [==============================] - 26s 235ms/step - loss: 1.7741e-04 - accuracy: 1.0000 - val_loss: 0.0704 - val_accuracy: 0.9940\n",
            "Epoch 10/10\n",
            "109/109 [==============================] - 22s 201ms/step - loss: 2.1177e-04 - accuracy: 1.0000 - val_loss: 0.0720 - val_accuracy: 0.9940\n"
          ]
        }
      ]
    },
    {
      "cell_type": "code",
      "source": [
        "metric_df = pd.DataFrame(modelRNN_output.history)\n",
        "metric_df[['accuracy','val_accuracy']].plot(figsize = (8,5))\n",
        "plt.grid(True)"
      ],
      "metadata": {
        "colab": {
          "base_uri": "https://localhost:8080/",
          "height": 340
        },
        "id": "Gwvji5tT1Djm",
        "outputId": "57362d63-8821-4e85-c53e-770c25c9e5a6"
      },
      "execution_count": 29,
      "outputs": [
        {
          "output_type": "display_data",
          "data": {
            "text/plain": [
              "<Figure size 576x360 with 1 Axes>"
            ],
            "image/png": "[encoded data removed]"
          },
          "metadata": {
            "needs_background": "light"
          }
        }
      ]
    },
    {
      "cell_type": "code",
      "source": [
        "metric_df = pd.DataFrame(modelRNN_output.history)\n",
        "metric_df[['loss','val_loss']].plot(figsize = (8,5))\n",
        "plt.grid(True)"
      ],
      "metadata": {
        "colab": {
          "base_uri": "https://localhost:8080/",
          "height": 340
        },
        "id": "Y2bcypyK1IP-",
        "outputId": "bee8a1e9-e093-4868-b4b9-946d933404fe"
      },
      "execution_count": 30,
      "outputs": [
        {
          "output_type": "display_data",
          "data": {
            "text/plain": [
              "<Figure size 576x360 with 1 Axes>"
            ],
            "image/png": "[encoded data removed]"
          },
          "metadata": {
            "needs_background": "light"
          }
        }
      ]
    },
    {
      "cell_type": "markdown",
      "source": [
        "### 3. LSTM model"
      ],
      "metadata": {
        "id": "1MLqWhmX1de6"
      }
    },
    {
      "cell_type": "code",
      "source": [
        "# hyperparameters\n",
        "embedding_dim = 100\n",
        "state_dim = 64\n",
        "dense_dim = 32\n",
        "\n",
        "# model definition\n",
        "model_lstm = Sequential([layers.Embedding(vocab_size, embedding_dim, input_length=max_length),\n",
        "                         layers.Bidirectional(layers.LSTM(state_dim)),\n",
        "                         layers.Dense(dense_dim, activation='relu'),\n",
        "                         layers.Dense(1, activation='sigmoid')], name=\"lstm\")\n",
        "\n",
        "# set the training parameters\n",
        "model_lstm.compile(loss='binary_crossentropy', optimizer='adam', metrics=['accuracy'])\n",
        "\n",
        "# print the model summary\n",
        "model_lstm.summary()"
      ],
      "metadata": {
        "colab": {
          "base_uri": "https://localhost:8080/"
        },
        "id": "YlEISzaV1ilb",
        "outputId": "aedc74ea-fa88-4ce7-bc3e-9b9b19b18d19"
      },
      "execution_count": 46,
      "outputs": [
        {
          "output_type": "stream",
          "name": "stdout",
          "text": [
            "Model: \"lstm\"\n",
            "_________________________________________________________________\n",
            " Layer (type)                Output Shape              Param #   \n",
            "=================================================================\n",
            " embedding_9 (Embedding)     (None, 120, 100)          1000000   \n",
            "                                                                 \n",
            " bidirectional_8 (Bidirectio  (None, 128)              84480     \n",
            " nal)                                                            \n",
            "                                                                 \n",
            " dense_18 (Dense)            (None, 32)                4128      \n",
            "                                                                 \n",
            " dense_19 (Dense)            (None, 1)                 33        \n",
            "                                                                 \n",
            "=================================================================\n",
            "Total params: 1,088,641\n",
            "Trainable params: 1,088,641\n",
            "Non-trainable params: 0\n",
            "_________________________________________________________________\n"
          ]
        }
      ]
    },
    {
      "cell_type": "code",
      "source": [
        "model_lstm_output = model_lstm.fit(training_padded, training_label, batch_size=256, epochs=10, validation_data=(testing_padded, test_label))"
      ],
      "metadata": {
        "colab": {
          "base_uri": "https://localhost:8080/"
        },
        "id": "FL3ihEj11nzq",
        "outputId": "568ad4e1-b09d-40ad-fa68-417b08dee907"
      },
      "execution_count": 47,
      "outputs": [
        {
          "output_type": "stream",
          "name": "stdout",
          "text": [
            "Epoch 1/10\n",
            "109/109 [==============================] - 7s 28ms/step - loss: 0.1073 - accuracy: 0.9853 - val_loss: 0.0369 - val_accuracy: 0.9940\n",
            "Epoch 2/10\n",
            "109/109 [==============================] - 2s 20ms/step - loss: 0.0346 - accuracy: 0.9944 - val_loss: 0.0369 - val_accuracy: 0.9940\n",
            "Epoch 3/10\n",
            "109/109 [==============================] - 2s 20ms/step - loss: 0.0341 - accuracy: 0.9944 - val_loss: 0.0372 - val_accuracy: 0.9940\n",
            "Epoch 4/10\n",
            "109/109 [==============================] - 2s 20ms/step - loss: 0.0323 - accuracy: 0.9944 - val_loss: 0.0378 - val_accuracy: 0.9940\n",
            "Epoch 5/10\n",
            "109/109 [==============================] - 2s 20ms/step - loss: 0.0249 - accuracy: 0.9944 - val_loss: 0.0488 - val_accuracy: 0.9940\n",
            "Epoch 6/10\n",
            "109/109 [==============================] - 2s 20ms/step - loss: 0.0147 - accuracy: 0.9960 - val_loss: 0.0505 - val_accuracy: 0.9940\n",
            "Epoch 7/10\n",
            "109/109 [==============================] - 2s 20ms/step - loss: 0.0073 - accuracy: 0.9983 - val_loss: 0.0589 - val_accuracy: 0.9940\n",
            "Epoch 8/10\n",
            "109/109 [==============================] - 2s 21ms/step - loss: 0.0047 - accuracy: 0.9987 - val_loss: 0.0620 - val_accuracy: 0.9940\n",
            "Epoch 9/10\n",
            "109/109 [==============================] - 2s 20ms/step - loss: 0.0028 - accuracy: 0.9993 - val_loss: 0.0659 - val_accuracy: 0.9938\n",
            "Epoch 10/10\n",
            "109/109 [==============================] - 2s 21ms/step - loss: 0.0015 - accuracy: 0.9997 - val_loss: 0.0726 - val_accuracy: 0.9937\n"
          ]
        }
      ]
    },
    {
      "cell_type": "code",
      "source": [
        "metric_df = pd.DataFrame(model_lstm_output.history)\n",
        "metric_df[['accuracy','val_accuracy']].plot(figsize = (8,5))\n",
        "plt.grid(True)"
      ],
      "metadata": {
        "colab": {
          "base_uri": "https://localhost:8080/",
          "height": 340
        },
        "id": "FMZv6Tjs1966",
        "outputId": "94d35c8c-a7f0-4636-dbbb-f2d58e22dc10"
      },
      "execution_count": 48,
      "outputs": [
        {
          "output_type": "display_data",
          "data": {
            "text/plain": [
              "<Figure size 576x360 with 1 Axes>"
            ],
            "image/png": "[encoded data removed]"
          },
          "metadata": {
            "needs_background": "light"
          }
        }
      ]
    },
    {
      "cell_type": "code",
      "source": [
        "metric_df = pd.DataFrame(model_lstm_output.history)\n",
        "metric_df[['loss','val_loss']].plot(figsize = (8,5))\n",
        "plt.grid(True)"
      ],
      "metadata": {
        "colab": {
          "base_uri": "https://localhost:8080/",
          "height": 340
        },
        "id": "ObfkBDo-2Fjy",
        "outputId": "ad0e27d8-2e04-46b0-9cfd-6b07c778f92a"
      },
      "execution_count": 49,
      "outputs": [
        {
          "output_type": "display_data",
          "data": {
            "text/plain": [
              "<Figure size 576x360 with 1 Axes>"
            ],
            "image/png": "[encoded data removed]"
          },
          "metadata": {
            "needs_background": "light"
          }
        }
      ]
    },
    {
      "cell_type": "markdown",
      "source": [
        "### 4. GRU Model"
      ],
      "metadata": {
        "id": "JjiBaC_O2LPq"
      }
    },
    {
      "cell_type": "code",
      "source": [
        "embedding_dim = 100\n",
        "state_dim = 64\n",
        "dense_dim = 32\n",
        "\n",
        "# model definition\n",
        "model_gru = Sequential([layers.Embedding(vocab_size, embedding_dim, input_length=max_length),\n",
        "                         layers.Bidirectional(layers.GRU(state_dim)),\n",
        "                         layers.Dense(dense_dim, activation='relu'),\n",
        "                         layers.Dense(1, activation='sigmoid')], name=\"gru\")\n",
        "\n",
        "# set the training parameters\n",
        "model_gru.compile(loss='binary_crossentropy', optimizer='adam', metrics=['accuracy'])\n",
        "\n",
        "# print the model summary\n",
        "model_gru.summary()"
      ],
      "metadata": {
        "colab": {
          "base_uri": "https://localhost:8080/"
        },
        "id": "1N-_K6-n2No3",
        "outputId": "2f027256-ff1f-4cf7-9135-179af89e8d6c"
      },
      "execution_count": 36,
      "outputs": [
        {
          "output_type": "stream",
          "name": "stdout",
          "text": [
            "Model: \"gru\"\n",
            "_________________________________________________________________\n",
            " Layer (type)                Output Shape              Param #   \n",
            "=================================================================\n",
            " embedding_4 (Embedding)     (None, 120, 100)          1000000   \n",
            "                                                                 \n",
            " bidirectional_3 (Bidirectio  (None, 128)              63744     \n",
            " nal)                                                            \n",
            "                                                                 \n",
            " dense_8 (Dense)             (None, 32)                4128      \n",
            "                                                                 \n",
            " dense_9 (Dense)             (None, 1)                 33        \n",
            "                                                                 \n",
            "=================================================================\n",
            "Total params: 1,067,905\n",
            "Trainable params: 1,067,905\n",
            "Non-trainable params: 0\n",
            "_________________________________________________________________\n"
          ]
        }
      ]
    },
    {
      "cell_type": "code",
      "source": [
        "model_gru_output = model_gru.fit(training_padded, training_label, batch_size=256, epochs=10, validation_data=(testing_padded, test_label))"
      ],
      "metadata": {
        "colab": {
          "base_uri": "https://localhost:8080/"
        },
        "id": "VIkmFkB02bed",
        "outputId": "02e56d67-080d-4a5b-9dec-94bb3e245cea"
      },
      "execution_count": 37,
      "outputs": [
        {
          "output_type": "stream",
          "name": "stdout",
          "text": [
            "Epoch 1/10\n",
            "109/109 [==============================] - 5s 25ms/step - loss: 0.1217 - accuracy: 0.9887 - val_loss: 0.0375 - val_accuracy: 0.9940\n",
            "Epoch 2/10\n",
            "109/109 [==============================] - 2s 18ms/step - loss: 0.0293 - accuracy: 0.9944 - val_loss: 0.0399 - val_accuracy: 0.9940\n",
            "Epoch 3/10\n",
            "109/109 [==============================] - 2s 18ms/step - loss: 0.0197 - accuracy: 0.9947 - val_loss: 0.0466 - val_accuracy: 0.9940\n",
            "Epoch 4/10\n",
            "109/109 [==============================] - 2s 18ms/step - loss: 0.0092 - accuracy: 0.9971 - val_loss: 0.0607 - val_accuracy: 0.9940\n",
            "Epoch 5/10\n",
            "109/109 [==============================] - 2s 18ms/step - loss: 0.0035 - accuracy: 0.9991 - val_loss: 0.0591 - val_accuracy: 0.9927\n",
            "Epoch 6/10\n",
            "109/109 [==============================] - 2s 18ms/step - loss: 0.0026 - accuracy: 0.9992 - val_loss: 0.0830 - val_accuracy: 0.9937\n",
            "Epoch 7/10\n",
            "109/109 [==============================] - 2s 18ms/step - loss: 6.8549e-04 - accuracy: 0.9999 - val_loss: 0.0802 - val_accuracy: 0.9935\n",
            "Epoch 8/10\n",
            "109/109 [==============================] - 2s 19ms/step - loss: 6.9843e-04 - accuracy: 0.9999 - val_loss: 0.0845 - val_accuracy: 0.9937\n",
            "Epoch 9/10\n",
            "109/109 [==============================] - 2s 19ms/step - loss: 3.3096e-04 - accuracy: 0.9999 - val_loss: 0.0917 - val_accuracy: 0.9938\n",
            "Epoch 10/10\n",
            "109/109 [==============================] - 2s 19ms/step - loss: 3.8404e-04 - accuracy: 0.9999 - val_loss: 0.0930 - val_accuracy: 0.9938\n"
          ]
        }
      ]
    },
    {
      "cell_type": "code",
      "source": [
        "metric_df = pd.DataFrame(model_gru_output.history)\n",
        "metric_df[['accuracy','val_accuracy']].plot(figsize = (8,5))\n",
        "plt.grid(True)"
      ],
      "metadata": {
        "colab": {
          "base_uri": "https://localhost:8080/",
          "height": 340
        },
        "id": "ZwZzREac3qc0",
        "outputId": "a6a2a7db-6464-4796-81ae-31dccba3b0f5"
      },
      "execution_count": 50,
      "outputs": [
        {
          "output_type": "display_data",
          "data": {
            "text/plain": [
              "<Figure size 576x360 with 1 Axes>"
            ],
            "image/png": "[encoded data removed]"
          },
          "metadata": {
            "needs_background": "light"
          }
        }
      ]
    },
    {
      "cell_type": "code",
      "source": [
        "metric_df = pd.DataFrame(model_gru_output.history)\n",
        "metric_df[['loss','val_loss']].plot(figsize = (8,5))\n",
        "plt.grid(True)"
      ],
      "metadata": {
        "colab": {
          "base_uri": "https://localhost:8080/",
          "height": 340
        },
        "id": "ARSajhBY3qWN",
        "outputId": "74415bcc-4da2-4d66-f60e-82e81d079e56"
      },
      "execution_count": 51,
      "outputs": [
        {
          "output_type": "display_data",
          "data": {
            "text/plain": [
              "<Figure size 576x360 with 1 Axes>"
            ],
            "image/png": "[encoded data removed]"
          },
          "metadata": {
            "needs_background": "light"
          }
        }
      ]
    },
    {
      "cell_type": "markdown",
      "source": [
        "### 5. Multi-layer (LSTM) RNNs"
      ],
      "metadata": {
        "id": "xgQktFrK3xTW"
      }
    },
    {
      "cell_type": "code",
      "source": [
        "embedding_dim = 100\n",
        "state_dim = 64\n",
        "dense_dim = 32\n",
        "\n",
        "\n",
        "# model definition\n",
        "model_multi_layer = Sequential([layers.Embedding(vocab_size, embedding_dim, input_length=max_length),\n",
        "                                layers.Bidirectional(layers.LSTM(state_dim, return_sequences=True)),\n",
        "                                layers.Bidirectional(layers.LSTM(state_dim, return_sequences=True)),\n",
        "                                layers.Bidirectional(layers.LSTM(state_dim)),\n",
        "                                layers.Dense(dense_dim, activation='relu'),\n",
        "                                layers.Dense(1, activation='sigmoid')], name=\"multi_layer\")\n",
        "\n",
        "# set the training parameters\n",
        "model_multi_layer.compile(loss='binary_crossentropy', optimizer='adam', metrics=['accuracy'])\n",
        "\n",
        "# print the model summary\n",
        "model_multi_layer.summary()"
      ],
      "metadata": {
        "colab": {
          "base_uri": "https://localhost:8080/"
        },
        "id": "r9RfXVhJ3w6C",
        "outputId": "314108a9-ae12-4843-9930-6e751c9c0621"
      },
      "execution_count": 52,
      "outputs": [
        {
          "output_type": "stream",
          "name": "stdout",
          "text": [
            "Model: \"multi_layer\"\n",
            "_________________________________________________________________\n",
            " Layer (type)                Output Shape              Param #   \n",
            "=================================================================\n",
            " embedding_10 (Embedding)    (None, 120, 100)          1000000   \n",
            "                                                                 \n",
            " bidirectional_9 (Bidirectio  (None, 120, 128)         84480     \n",
            " nal)                                                            \n",
            "                                                                 \n",
            " bidirectional_10 (Bidirecti  (None, 120, 128)         98816     \n",
            " onal)                                                           \n",
            "                                                                 \n",
            " bidirectional_11 (Bidirecti  (None, 128)              98816     \n",
            " onal)                                                           \n",
            "                                                                 \n",
            " dense_20 (Dense)            (None, 32)                4128      \n",
            "                                                                 \n",
            " dense_21 (Dense)            (None, 1)                 33        \n",
            "                                                                 \n",
            "=================================================================\n",
            "Total params: 1,286,273\n",
            "Trainable params: 1,286,273\n",
            "Non-trainable params: 0\n",
            "_________________________________________________________________\n"
          ]
        }
      ]
    },
    {
      "cell_type": "code",
      "source": [
        "model_multilayer_output = model_multi_layer.fit(training_padded, training_label, batch_size=256, epochs=10, validation_data=(testing_padded, test_label))"
      ],
      "metadata": {
        "colab": {
          "base_uri": "https://localhost:8080/"
        },
        "id": "6sBEJwAE4BqN",
        "outputId": "a35e524f-ec42-4d2c-85eb-2d1f2a615de2"
      },
      "execution_count": 53,
      "outputs": [
        {
          "output_type": "stream",
          "name": "stdout",
          "text": [
            "Epoch 1/10\n",
            "109/109 [==============================] - 16s 71ms/step - loss: 0.0814 - accuracy: 0.9857 - val_loss: 0.0369 - val_accuracy: 0.9940\n",
            "Epoch 2/10\n",
            "109/109 [==============================] - 7s 61ms/step - loss: 0.0348 - accuracy: 0.9944 - val_loss: 0.0368 - val_accuracy: 0.9940\n",
            "Epoch 3/10\n",
            "109/109 [==============================] - 6s 54ms/step - loss: 0.0349 - accuracy: 0.9944 - val_loss: 0.0368 - val_accuracy: 0.9940\n",
            "Epoch 4/10\n",
            "109/109 [==============================] - 6s 54ms/step - loss: 0.0351 - accuracy: 0.9944 - val_loss: 0.0368 - val_accuracy: 0.9940\n",
            "Epoch 5/10\n",
            "109/109 [==============================] - 6s 55ms/step - loss: 0.0349 - accuracy: 0.9944 - val_loss: 0.0369 - val_accuracy: 0.9940\n",
            "Epoch 6/10\n",
            "109/109 [==============================] - 6s 58ms/step - loss: 0.0348 - accuracy: 0.9944 - val_loss: 0.0368 - val_accuracy: 0.9940\n",
            "Epoch 7/10\n",
            "109/109 [==============================] - 7s 61ms/step - loss: 0.0349 - accuracy: 0.9944 - val_loss: 0.0368 - val_accuracy: 0.9940\n",
            "Epoch 8/10\n",
            "109/109 [==============================] - 6s 54ms/step - loss: 0.0347 - accuracy: 0.9944 - val_loss: 0.0369 - val_accuracy: 0.9940\n",
            "Epoch 9/10\n",
            "109/109 [==============================] - 6s 54ms/step - loss: 0.0345 - accuracy: 0.9944 - val_loss: 0.0374 - val_accuracy: 0.9940\n",
            "Epoch 10/10\n",
            "109/109 [==============================] - 6s 54ms/step - loss: 0.0274 - accuracy: 0.9943 - val_loss: 0.0412 - val_accuracy: 0.9940\n"
          ]
        }
      ]
    },
    {
      "cell_type": "code",
      "source": [
        "metric_df = pd.DataFrame(model_multilayer_output.history)\n",
        "metric_df[['accuracy','val_accuracy']].plot(figsize = (8,5))\n",
        "plt.grid(True)"
      ],
      "metadata": {
        "colab": {
          "base_uri": "https://localhost:8080/",
          "height": 340
        },
        "id": "EaNbeNWp4cpq",
        "outputId": "244b932f-a793-4ba5-86a2-a65493404771"
      },
      "execution_count": 54,
      "outputs": [
        {
          "output_type": "display_data",
          "data": {
            "text/plain": [
              "<Figure size 576x360 with 1 Axes>"
            ],
            "image/png": "[encoded data removed]"
          },
          "metadata": {
            "needs_background": "light"
          }
        }
      ]
    },
    {
      "cell_type": "code",
      "source": [
        "metric_df = pd.DataFrame(model_multilayer_output.history)\n",
        "metric_df[['loss','val_loss']].plot(figsize = (8,5))\n",
        "plt.grid(True)"
      ],
      "metadata": {
        "colab": {
          "base_uri": "https://localhost:8080/",
          "height": 340
        },
        "id": "9uR6IUeG4kMm",
        "outputId": "62f79444-503f-4aa8-b7d2-f60e539b5b63"
      },
      "execution_count": 55,
      "outputs": [
        {
          "output_type": "display_data",
          "data": {
            "text/plain": [
              "<Figure size 576x360 with 1 Axes>"
            ],
            "image/png": "[encoded data removed]"
          },
          "metadata": {
            "needs_background": "light"
          }
        }
      ]
    }
  ]
}